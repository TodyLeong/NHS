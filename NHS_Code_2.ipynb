{
 "cells": [
  {
   "cell_type": "code",
   "execution_count": 9,
   "id": "74bc75f9",
   "metadata": {},
   "outputs": [],
   "source": [
    "import pandas as pd\n",
    "import numpy as np\n",
    "\n",
    "ad = pd.read_csv('actual_duration.csv')\n",
    "\n",
    "ar = pd.read_csv('appointments_regional.csv')\n",
    "\n",
    "nc = pd.read_excel('national_categories.xlsx')"
   ]
  },
  {
   "cell_type": "code",
   "execution_count": 10,
   "id": "994d30c8",
   "metadata": {},
   "outputs": [
    {
     "name": "stdout",
     "output_type": "stream",
     "text": [
      "The appointments were scheduled between: 2021-08-01 00:00:00 and 2022-06-30 00:00:00\n"
     ]
    }
   ],
   "source": [
    "# What dates were appointments scheduled? \n",
    "\n",
    "min_date_nc = nc['appointment_date'].min()\n",
    "max_date_nc = nc['appointment_date'].max()\n",
    "\n",
    "# Display the results\n",
    "print(\"The appointments were scheduled between:\", min_date_nc, \"and\", max_date_nc)"
   ]
  },
  {
   "cell_type": "code",
   "execution_count": 12,
   "id": "49b91080",
   "metadata": {},
   "outputs": [
    {
     "name": "stdout",
     "output_type": "stream",
     "text": [
      "Service Setting with the most appointments in North West London:\n",
      "General Practice\n",
      "4804239\n"
     ]
    }
   ],
   "source": [
    "# Which service setting reported the most appointments in North West London from 1 January to 1 June 2022?\n",
    "\n",
    "# Create a subset of the nc DataFrame\n",
    "nc_subset = nc[(nc['sub_icb_location_name'].str.contains('W2U3Z', case=False)) & \n",
    "               (nc['appointment_date'] >= '2022-01-01') & \n",
    "               (nc['appointment_date'] <= '2022-06-01')]\n",
    "\n",
    "# Group the data by service setting and sum the appointments\n",
    "service_setting_counts = nc_subset.groupby('service_setting')['count_of_appointments'].sum()\n",
    "\n",
    "# Find the service setting(s) with the highest number of appointments\n",
    "most_appointments_service_setting = service_setting_counts.idxmax()\n",
    "num_appointments_service_setting = service_setting_counts.max()\n",
    "\n",
    "# Display the results\n",
    "print(\"Service Setting with the most appointments in North West London:\")\n",
    "print(most_appointments_service_setting) \n",
    "print(num_appointments_service_setting)"
   ]
  },
  {
   "cell_type": "code",
   "execution_count": 16,
   "id": "9c4e4ca3",
   "metadata": {},
   "outputs": [
    {
     "name": "stdout",
     "output_type": "stream",
     "text": [
      "Number of appointments:\n",
      "appointment_date  appointment_date\n",
      "2021              11                  30405070\n",
      "                  10                  30303834\n",
      "2022              3                   29595038\n",
      "2021              9                   28522501\n",
      "2022              5                   27495508\n",
      "                  6                   25828078\n",
      "                  1                   25635474\n",
      "                  2                   25355260\n",
      "2021              12                  25140776\n",
      "2022              4                   23913060\n",
      "2021              8                   23852171\n",
      "Name: count_of_appointments, dtype: int64\n",
      "Month with the highest appointments\n",
      "appointment_date  appointment_date\n",
      "2021              11                  30405070\n",
      "Name: count_of_appointments, dtype: int64\n"
     ]
    }
   ],
   "source": [
    "# Which month had the highest number of appointments?\n",
    "\n",
    "# Convert appointment_date column to datetime if not already\n",
    "nc['appointment_date'] = pd.to_datetime(nc['appointment_date'])\n",
    "\n",
    "# Group appointments by year and month, then calculate the total number of appointments for each month\n",
    "appointments_per_month = nc.groupby([nc['appointment_date'].dt.year, nc['appointment_date'].dt.month])['count_of_appointments'].sum()\n",
    "\n",
    "# Sorting from largest to smallest\n",
    "sorted_appointments_per_month = appointments_per_month.sort_values(ascending=False)\n",
    "\n",
    "# Display the results\n",
    "print(\"Number of appointments:\")\n",
    "print(sorted_appointments_per_month)\n",
    "print(\"Month with the highest appointments\")\n",
    "print(sorted_appointments_per_month.head(1))"
   ]
  },
  {
   "cell_type": "code",
   "execution_count": 20,
   "id": "38e4ce73",
   "metadata": {},
   "outputs": [
    {
     "name": "stdout",
     "output_type": "stream",
     "text": [
      "Appointments for nc:\n",
      "appointment_date  appointment_date\n",
      "2021              8                   23852171\n",
      "                  9                   28522501\n",
      "                  10                  30303834\n",
      "                  11                  30405070\n",
      "                  12                  25140776\n",
      "2022              1                   25635474\n",
      "                  2                   25355260\n",
      "                  3                   29595038\n",
      "                  4                   23913060\n",
      "                  5                   27495508\n",
      "                  6                   25828078\n",
      "Name: count_of_appointments, dtype: int64\n",
      "Appointments for ad:\n",
      "appointment_date  appointment_date\n",
      "2021              12                  22853483\n",
      "2022              1                   23597196\n",
      "                  2                   23351939\n",
      "                  3                   27170002\n",
      "                  4                   21948814\n",
      "                  5                   25343941\n",
      "                  6                   23715317\n",
      "Name: count_of_appointments, dtype: int64\n"
     ]
    }
   ],
   "source": [
    "# The total number of appointments per month per data source.\n",
    "\n",
    "# Convert appointment_date column to datetime if not already\n",
    "nc['appointment_date'] = pd.to_datetime(nc['appointment_date'])\n",
    "ad['appointment_date'] = pd.to_datetime(ad['appointment_date'])\n",
    "\n",
    "# Group appointments by year and month, then calculate the total number of appointments for each month\n",
    "appointments_per_month_nc = nc.groupby([nc['appointment_date'].dt.year, nc['appointment_date'].dt.month])['count_of_appointments'].sum()\n",
    "appointments_per_month_ad = ad.groupby([ad['appointment_date'].dt.year, ad['appointment_date'].dt.month])['count_of_appointments'].sum()\n",
    "\n",
    "# Display the results\n",
    "print(\"Appointments for nc:\")\n",
    "print(appointments_per_month_nc)\n",
    "print(\"Appointments for ad:\")\n",
    "print(appointments_per_month_ad)"
   ]
  },
  {
   "cell_type": "code",
   "execution_count": null,
   "id": "5b2ded05",
   "metadata": {},
   "outputs": [],
   "source": []
  }
 ],
 "metadata": {
  "kernelspec": {
   "display_name": "Python 3 (ipykernel)",
   "language": "python",
   "name": "python3"
  },
  "language_info": {
   "codemirror_mode": {
    "name": "ipython",
    "version": 3
   },
   "file_extension": ".py",
   "mimetype": "text/x-python",
   "name": "python",
   "nbconvert_exporter": "python",
   "pygments_lexer": "ipython3",
   "version": "3.11.7"
  }
 },
 "nbformat": 4,
 "nbformat_minor": 5
}
